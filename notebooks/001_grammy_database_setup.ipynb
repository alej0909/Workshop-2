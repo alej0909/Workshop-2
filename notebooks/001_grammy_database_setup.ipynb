{
 "cells": [
  {
   "cell_type": "markdown",
   "metadata": {},
   "source": [
    "### 🚀 Data Migration from CSV to PostgreSQL\n",
    "\n",
    "In this notebook, will be migrating data from a CSV file into a PostgreSQL database.\n",
    "\n",
    "#### 📝 Key Steps\n",
    "\n",
    "1. **📦 Import Required Modules**\n",
    "   - Load all the necessary libraries for the data migration.\n",
    "\n",
    "2. **🔑 Establish a Database Connection**\n",
    "   - Connect to the PostgreSQL database to interact with it.\n",
    "\n",
    "3. **🛠️ Set Up the Environment**\n",
    "   - Make sure the database credentials are correctly set up in a `.env` file.\n",
    "\n",
    "4. **🗄️ Define the Candidates Table**\n",
    "   - Create the \"Candidates\" table within the PostgreSQL database.\n",
    "\n",
    "5. **⚙️ Process and Load Data**\n",
    "   - Transform the CSV data and load it into the database.\n",
    "\n",
    "6. **🔗 Initialize SQLAlchemy Session**\n",
    "   - Create an SQLAlchemy session to manage database transactions and queries.\n",
    "\n",
    "#### ✅ Remember\n",
    "\n",
    "Ensure that the environment variables containing your database credentials are set up in a `.env` file. Also, install the required dependencies by running:\n",
    "\n",
    "```bash\n",
    "pip install -r requirements.txt\n",
    "```\n",
    "\n",
    "And that’s it! You’re all set to begin the data migration process. 🎉\n"
   ]
  },
  {
   "cell_type": "code",
   "execution_count": 1,
   "metadata": {},
   "outputs": [],
   "source": [
    "import sys\n",
    "import os\n",
    "from dotenv import load_dotenv\n",
    "\n",
    "load_dotenv()\n",
    "work_dir = os.getenv('WORK_DIR')\n",
    "sys.path.append(work_dir)"
   ]
  },
  {
   "cell_type": "markdown",
   "metadata": {},
   "source": [
    "**📦 Import Required Modules**"
   ]
  },
  {
   "cell_type": "code",
   "execution_count": 2,
   "metadata": {},
   "outputs": [],
   "source": [
    "from src.model.models import GrammyAwards\n",
    "from src.database_connection.dbconnection import getconnection\n",
    "from sqlalchemy import inspect\n",
    "from sqlalchemy.orm import sessionmaker\n",
    "from transforms.transform import DataTransformGrammys\n",
    "from sqlalchemy.exc import SQLAlchemyError"
   ]
  },
  {
   "cell_type": "markdown",
   "metadata": {},
   "source": [
    "**🔑 Establish a Database Connection**\n"
   ]
  },
  {
   "cell_type": "code",
   "execution_count": 3,
   "metadata": {},
   "outputs": [
    {
     "name": "stdout",
     "output_type": "stream",
     "text": [
      "Conected successfully to database airflowdb!\n"
     ]
    }
   ],
   "source": [
    "engine = getconnection()\n",
    "Session = sessionmaker(bind=engine)\n",
    "session = Session()"
   ]
  },
  {
   "cell_type": "markdown",
   "metadata": {},
   "source": [
    "**⚙️ Process and Load Data**"
   ]
  },
  {
   "cell_type": "markdown",
   "metadata": {},
   "source": [
    "If a GrammyAwards table exist, it will be dropped and created again."
   ]
  },
  {
   "cell_type": "code",
   "execution_count": 4,
   "metadata": {},
   "outputs": [
    {
     "name": "stdout",
     "output_type": "stream",
     "text": [
      "Table created successfully.\n"
     ]
    }
   ],
   "source": [
    "try:\n",
    "    if inspect(engine).has_table('GrammyAwards'):\n",
    "        GrammyAwards.__table__.drop(engine)\n",
    "    GrammyAwards.__table__.create(engine)\n",
    "    print(\"Table created successfully.\")\n",
    "except SQLAlchemyError as e:\n",
    "    print(f\"Error creating table: {e}\")\n"
   ]
  },
  {
   "cell_type": "code",
   "execution_count": 5,
   "metadata": {},
   "outputs": [
    {
     "name": "stdout",
     "output_type": "stream",
     "text": [
      "Data uploaded\n"
     ]
    }
   ],
   "source": [
    "\n",
    "try:\n",
    "    file = DataTransformGrammys('../data/the_grammy_awards.csv')\n",
    "    file.insert_id()\n",
    "    \n",
    "    file.df.to_sql('GrammyAwards', con=engine, if_exists='append', index=False)\n",
    "    print(\"Data uploaded\")\n",
    "\n",
    "except SQLAlchemyError as e:\n",
    "    print(f\"Database error: {e}\")\n",
    "\n",
    "except Exception as e:\n",
    "    print(f\"Error: {e}\")\n"
   ]
  }
 ],
 "metadata": {
  "kernelspec": {
   "display_name": "venv",
   "language": "python",
   "name": "python3"
  },
  "language_info": {
   "codemirror_mode": {
    "name": "ipython",
    "version": 3
   },
   "file_extension": ".py",
   "mimetype": "text/x-python",
   "name": "python",
   "nbconvert_exporter": "python",
   "pygments_lexer": "ipython3",
   "version": "3.12.3"
  }
 },
 "nbformat": 4,
 "nbformat_minor": 2
}
